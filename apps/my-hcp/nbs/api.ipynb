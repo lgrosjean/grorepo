{
 "cells": [
  {
   "cell_type": "code",
   "execution_count": 45,
   "metadata": {},
   "outputs": [],
   "source": [
    "from Bio import Entrez\n",
    "from typing import Dict, Union, List\n",
    "import json"
   ]
  },
  {
   "cell_type": "code",
   "execution_count": 83,
   "metadata": {},
   "outputs": [],
   "source": [
    "_DEFAULT_EMAIL = \"your.email@example.org\"\n",
    "\n",
    "class PubMed:\n",
    "\n",
    "    def __init__(self, email:str = None, db: str = 'pubmed'):\n",
    "        self.email = email if email is not None else _DEFAULT_EMAIL\n",
    "        Entrez.email = self.email\n",
    "        self.db = db\n",
    "\n",
    "    @staticmethod\n",
    "    def _read_result(res):\n",
    "        return json.loads(res.read().decode('utf8'))\n",
    "\n",
    "    @classmethod\n",
    "    def quick_search(cls, query, **kwargs) -> List:\n",
    "        \"\"\"Returns list of ids for giving query\"\"\"\n",
    "        Entrez.email = _DEFAULT_EMAIL\n",
    "        handle = Entrez.esearch(\n",
    "            term=query,\n",
    "            db='pubmed',\n",
    "            retmode='json',\n",
    "            **kwargs\n",
    "        )\n",
    "        res = cls._read_result(handle)\n",
    "        print(res.get('esearchresult').get('translationstack'))\n",
    "        return res.get('esearchresult').get('idlist')\n",
    "\n",
    "    @classmethod\n",
    "    def fetch_articles(cls, id: Union[str, List[str]], **kwargs):\n",
    "        if isinstance(id, list):\n",
    "            id = ','.join(id)\n",
    "        Entrez.email = _DEFAULT_EMAIL\n",
    "        handle = Entrez.efetch(db='pubmed', retmode='json', id=id)\n",
    "        # results = Entrez.read(handle)\n",
    "        results = cls._read_result(handle)\n",
    "        return results.get('PubmedArticle')\n"
   ]
  },
  {
   "cell_type": "code",
   "execution_count": 117,
   "metadata": {},
   "outputs": [
    {
     "name": "stdout",
     "output_type": "stream",
     "text": [
      "[{'term': 'Grinda, Thomas[Full Author Name]', 'field': 'Full Author Name', 'count': '5', 'explode': 'N'}, 'GROUP']\n"
     ]
    }
   ],
   "source": [
    "tgrinda_ids = PubMed.quick_search(\"Thomas Grinda\", field=\"Author\")"
   ]
  },
  {
   "cell_type": "code",
   "execution_count": 118,
   "metadata": {},
   "outputs": [],
   "source": [
    "articles = PubMed.fetch_articles(tgrinda_ids)"
   ]
  },
  {
   "cell_type": "code",
   "execution_count": 145,
   "metadata": {},
   "outputs": [],
   "source": [
    "article = articles[3].get('MedlineCitation').get('Article')"
   ]
  },
  {
   "cell_type": "code",
   "execution_count": null,
   "metadata": {},
   "outputs": [],
   "source": [
    "class Article:\n",
    "\n",
    "    def __init__(self, data: Dict):\n",
    "        self.title = data.get('ArticleTitle')\n",
    "        date = data.get('ArticleDate')"
   ]
  },
  {
   "cell_type": "code",
   "execution_count": 126,
   "metadata": {},
   "outputs": [
    {
     "data": {
      "text/plain": [
       "dict_keys(['ELocationID', 'Language', 'ArticleDate', 'Journal', 'ArticleTitle', 'AuthorList', 'PublicationTypeList'])"
      ]
     },
     "execution_count": 126,
     "metadata": {},
     "output_type": "execute_result"
    }
   ],
   "source": [
    "article_.keys()"
   ]
  },
  {
   "cell_type": "code",
   "execution_count": 131,
   "metadata": {},
   "outputs": [],
   "source": [
    "t = article_.get('ArticleDate')[0]"
   ]
  },
  {
   "cell_type": "code",
   "execution_count": 137,
   "metadata": {},
   "outputs": [
    {
     "data": {
      "text/plain": [
       "'ArticleDate'"
      ]
     },
     "execution_count": 137,
     "metadata": {},
     "output_type": "execute_result"
    }
   ],
   "source": [
    "t.tag"
   ]
  },
  {
   "cell_type": "code",
   "execution_count": 132,
   "metadata": {},
   "outputs": [
    {
     "data": {
      "text/plain": [
       "{'DateType': 'Electronic'}"
      ]
     },
     "execution_count": 132,
     "metadata": {},
     "output_type": "execute_result"
    }
   ],
   "source": [
    "t.attributes"
   ]
  },
  {
   "cell_type": "code",
   "execution_count": 122,
   "metadata": {},
   "outputs": [
    {
     "data": {
      "text/plain": [
       "'Durable response to crizotinib in metastatic angiomatoid fibrous histiocytoma with EWSR1-CREB1 fusion and ALK overexpression.'"
      ]
     },
     "execution_count": 122,
     "metadata": {},
     "output_type": "execute_result"
    }
   ],
   "source": [
    "article_.get('ArticleTitle')"
   ]
  },
  {
   "cell_type": "code",
   "execution_count": 102,
   "metadata": {},
   "outputs": [],
   "source": [
    "authors = article_.get(\"AuthorList\")"
   ]
  },
  {
   "cell_type": "code",
   "execution_count": 114,
   "metadata": {},
   "outputs": [
    {
     "data": {
      "text/plain": [
       "15"
      ]
     },
     "execution_count": 114,
     "metadata": {},
     "output_type": "execute_result"
    }
   ],
   "source": [
    "len(authors)"
   ]
  },
  {
   "cell_type": "code",
   "execution_count": 123,
   "metadata": {},
   "outputs": [
    {
     "name": "stdout",
     "output_type": "stream",
     "text": [
      "Durable response to crizotinib in metastatic angiomatoid fibrous histiocytoma with EWSR1-CREB1 fusion and ALK overexpression.\n",
      "ListElement([DictElement({'AffiliationInfo': [{'Identifier': [], 'Affiliation': 'Department of Biology and Pathology, Gustave Roussy, Villejuif, France; Université Paris-Saclay, Faculté de Médecine, Le Kremlin-Bicêtre, France.'}], 'Identifier': [], 'LastName': 'Ngo', 'ForeName': 'C', 'Initials': 'C'}, attributes={'ValidYN': 'Y'}), DictElement({'AffiliationInfo': [{'Identifier': [], 'Affiliation': 'Department of Cancer Medicine, Gustave Roussy, Villejuif, France.'}], 'Identifier': [], 'LastName': 'Grinda', 'ForeName': 'T', 'Initials': 'T'}, attributes={'ValidYN': 'Y'}), DictElement({'AffiliationInfo': [{'Identifier': [], 'Affiliation': 'Université Paris-Saclay, Faculté de Médecine, Le Kremlin-Bicêtre, France; Department of Cancer Medicine, Gustave Roussy, Villejuif, France.'}], 'Identifier': [], 'LastName': 'Boilève', 'ForeName': 'A', 'Initials': 'A'}, attributes={'ValidYN': 'Y'}), DictElement({'AffiliationInfo': [{'Identifier': [], 'Affiliation': 'Université Paris-Saclay, Faculté de Médecine, Le Kremlin-Bicêtre, France; Department of Radiation Oncology, Gustave Roussy, Villejuif, France.'}], 'Identifier': [], 'LastName': 'Levy', 'ForeName': 'A', 'Initials': 'A'}, attributes={'ValidYN': 'Y'}), DictElement({'AffiliationInfo': [{'Identifier': [], 'Affiliation': 'Department of Radiation Oncology, Gustave Roussy, Villejuif, France.'}], 'Identifier': [], 'LastName': 'Le Pechoux', 'ForeName': 'C', 'Initials': 'C'}, attributes={'ValidYN': 'Y'}), DictElement({'AffiliationInfo': [{'Identifier': [], 'Affiliation': 'Department of Radiology, Gustave Roussy, Villejuif, France.'}], 'Identifier': [], 'LastName': 'Haddag', 'ForeName': 'L', 'Initials': 'L'}, attributes={'ValidYN': 'Y'}), DictElement({'AffiliationInfo': [{'Identifier': [], 'Affiliation': 'Department of Biology and Pathology, Gustave Roussy, Villejuif, France.'}], 'Identifier': [], 'LastName': 'Valent', 'ForeName': 'A', 'Initials': 'A'}, attributes={'ValidYN': 'Y'}), DictElement({'AffiliationInfo': [{'Identifier': [], 'Affiliation': 'Department of Pathology, Bicêtre Hospital, Université Paris-Saclay, Le Kremlin-Bicêtre, France.'}], 'Identifier': [], 'LastName': 'Lazure', 'ForeName': 'T', 'Initials': 'T'}, attributes={'ValidYN': 'Y'}), DictElement({'AffiliationInfo': [{'Identifier': [], 'Affiliation': 'Department of Orthopaedics and Traumatology, Bicêtre Hospital, Université Paris-Saclay, Le Kremlin-Bicêtre, France.'}], 'Identifier': [], 'LastName': 'Briand', 'ForeName': 'S', 'Initials': 'S'}, attributes={'ValidYN': 'Y'}), DictElement({'AffiliationInfo': [{'Identifier': [], 'Affiliation': 'Department of Surgery, Gustave Roussy, Villejuif, France.'}], 'Identifier': [], 'LastName': 'Honoré', 'ForeName': 'C', 'Initials': 'C'}, attributes={'ValidYN': 'Y'}), DictElement({'AffiliationInfo': [{'Identifier': [], 'Affiliation': 'Department of Surgery, Gustave Roussy, Villejuif, France.'}], 'Identifier': [], 'LastName': 'Faron', 'ForeName': 'M', 'Initials': 'M'}, attributes={'ValidYN': 'Y'}), DictElement({'AffiliationInfo': [{'Identifier': [], 'Affiliation': 'Department of Ambulatory Cancer Care, Gustave Roussy, Villejuif, France.'}], 'Identifier': [], 'LastName': 'Mir', 'ForeName': 'O', 'Initials': 'O'}, attributes={'ValidYN': 'Y'}), DictElement({'AffiliationInfo': [{'Identifier': [], 'Affiliation': 'Department of Cancer Medicine, Gustave Roussy, Villejuif, France.'}], 'Identifier': [], 'LastName': 'Bahleda', 'ForeName': 'R', 'Initials': 'R'}, attributes={'ValidYN': 'Y'}), DictElement({'AffiliationInfo': [{'Identifier': [], 'Affiliation': 'Department of Cancer Medicine, Gustave Roussy, Villejuif, France.'}], 'Identifier': [], 'LastName': 'Verret', 'ForeName': 'B', 'Initials': 'B'}, attributes={'ValidYN': 'Y'}), DictElement({'AffiliationInfo': [{'Identifier': [], 'Affiliation': 'Department of Cancer Medicine, Gustave Roussy, Villejuif, France. Electronic address: axel.lecesne@gustaveroussy.fr.'}], 'Identifier': [], 'LastName': 'Le Cesne', 'ForeName': 'A', 'Initials': 'A'}, attributes={'ValidYN': 'Y'})], attributes={'CompleteYN': 'Y'})\n",
      "-----\n",
      "[Mechanisms of resistance and escape to CAR-T cells].\n",
      "ListElement([DictElement({'AffiliationInfo': [{'Identifier': [], 'Affiliation': \"Biopole de l'Université de Lorraine, Équipe 6 CeCiTa, CNRS UMR 7563 IMoPa, 54500 Vandœuvre-les-Nancy, France; Gustave-Roussy, Département de médecine oncologique, 94805 Villejuif, France.\"}], 'Identifier': [], 'LastName': 'Grinda', 'ForeName': 'Thomas', 'Initials': 'T'}, attributes={'ValidYN': 'Y'}), DictElement({'AffiliationInfo': [{'Identifier': [], 'Affiliation': \"Biopole de l'Université de Lorraine, Équipe 6 CeCiTa, CNRS UMR 7563 IMoPa, 54500 Vandœuvre-les-Nancy, France.\"}], 'Identifier': [], 'LastName': 'Brouard', 'ForeName': 'Jordan', 'Initials': 'J'}, attributes={'ValidYN': 'Y'}), DictElement({'AffiliationInfo': [{'Identifier': [], 'Affiliation': \"Biopole de l'Université de Lorraine, Équipe 6 CeCiTa, CNRS UMR 7563 IMoPa, 54500 Vandœuvre-les-Nancy, France.\"}], 'Identifier': [], 'LastName': 'Tran', 'ForeName': 'Dai', 'Initials': 'D'}, attributes={'ValidYN': 'Y'}), DictElement({'AffiliationInfo': [{'Identifier': [], 'Affiliation': \"Biopole de l'Université de Lorraine, Équipe 6 CeCiTa, CNRS UMR 7563 IMoPa, 54500 Vandœuvre-les-Nancy, France; Hopital Brabois, service d'hématologie, CHRU Nancy, Nancy, France. Electronic address: m.rubio@chru-nancy.fr.\"}], 'Identifier': [], 'LastName': 'Rubio', 'ForeName': 'Marie Thérèse', 'Initials': 'MT'}, attributes={'ValidYN': 'Y'})], attributes={'CompleteYN': 'Y'})\n",
      "-----\n",
      "Molecular Landscape of Therapy-related Myeloid Neoplasms in Patients Previously Treated for Gynecologic and Breast Cancers.\n",
      "ListElement([DictElement({'AffiliationInfo': [{'Identifier': [], 'Affiliation': \"Département d'Hématologie, Gustave Roussy, Université Paris-Saclay, Villejuif, France.\"}], 'Identifier': [], 'LastName': 'Khalife-Hachem', 'ForeName': 'Sabine', 'Initials': 'S'}, attributes={'ValidYN': 'Y'}), DictElement({'AffiliationInfo': [{'Identifier': [], 'Affiliation': \"Département d'Hématologie, Gustave Roussy, Université Paris-Saclay, Villejuif, France.\"}], 'Identifier': [], 'LastName': 'Saleh', 'ForeName': 'Khalil', 'Initials': 'K'}, attributes={'ValidYN': 'Y'}), DictElement({'AffiliationInfo': [{'Identifier': [], 'Affiliation': \"Département d'Hématologie, Gustave Roussy, Université Paris-Saclay, Villejuif, France.\"}, {'Identifier': [], 'Affiliation': 'INSERM U1287, Gustave Roussy, Université Paris-Saclay, Villejuif, France.'}], 'Identifier': [], 'LastName': 'Pasquier', 'ForeName': 'Florence', 'Initials': 'F'}, attributes={'ValidYN': 'Y'}), DictElement({'AffiliationInfo': [{'Identifier': [], 'Affiliation': \"Département d'Hématologie, Gustave Roussy, Université Paris-Saclay, Villejuif, France.\"}, {'Identifier': [], 'Affiliation': 'INSERM U1287, Gustave Roussy, Université Paris-Saclay, Villejuif, France.'}], 'Identifier': [], 'LastName': 'Willekens', 'ForeName': 'Christophe', 'Initials': 'C'}, attributes={'ValidYN': 'Y'}), DictElement({'AffiliationInfo': [{'Identifier': [], 'Affiliation': \"Département d'Hématologie, Gustave Roussy, Université Paris-Saclay, Villejuif, France.\"}], 'Identifier': [], 'LastName': 'Tarabay', 'ForeName': 'Anthony', 'Initials': 'A'}, attributes={'ValidYN': 'Y'}), DictElement({'AffiliationInfo': [{'Identifier': [], 'Affiliation': \"Département d'Hématologie, Gustave Roussy, Université Paris-Saclay, Villejuif, France.\"}], 'Identifier': [], 'LastName': 'Antoun', 'ForeName': 'Leony', 'Initials': 'L'}, attributes={'ValidYN': 'Y'}), DictElement({'AffiliationInfo': [{'Identifier': [], 'Affiliation': \"Département d'Hématologie, Gustave Roussy, Université Paris-Saclay, Villejuif, France.\"}], 'Identifier': [], 'LastName': 'Grinda', 'ForeName': 'Thomas', 'Initials': 'T'}, attributes={'ValidYN': 'Y'}), DictElement({'AffiliationInfo': [{'Identifier': [], 'Affiliation': \"Département d'Hématologie, Gustave Roussy, Université Paris-Saclay, Villejuif, France.\"}], 'Identifier': [], 'LastName': 'Castilla-Llorente', 'ForeName': 'Cristina', 'Initials': 'C'}, attributes={'ValidYN': 'Y'}), DictElement({'AffiliationInfo': [{'Identifier': [], 'Affiliation': 'Hematology Laboratory, Hôpital Saint-Louis, Assistance Publique-Hôpitaux de Paris, University of Paris, France.'}, {'Identifier': [], 'Affiliation': 'Université de Paris, Génomes, biologie cellulaire et thérapeutique U944, INSERM, CNRS, Paris, France.'}], 'Identifier': [], 'LastName': 'Duchmann', 'ForeName': 'Matthieu', 'Initials': 'M'}, attributes={'ValidYN': 'Y'}), DictElement({'AffiliationInfo': [{'Identifier': [], 'Affiliation': 'Gustave Roussy, UMS AMMICA (UMS 3655), Villejuif, France.'}], 'Identifier': [], 'LastName': 'Quivoron', 'ForeName': 'Cyril', 'Initials': 'C'}, attributes={'ValidYN': 'Y'}), DictElement({'AffiliationInfo': [{'Identifier': [], 'Affiliation': 'Département de Biologie et Pathologie Médicales, Gustave Roussy, Université Paris-Saclay, Villejuif, France.'}], 'Identifier': [], 'LastName': 'Auger', 'ForeName': 'Nathalie', 'Initials': 'N'}, attributes={'ValidYN': 'Y'}), DictElement({'AffiliationInfo': [{'Identifier': [], 'Affiliation': 'Département de Biologie et Pathologie Médicales, Gustave Roussy, Université Paris-Saclay, Villejuif, France.'}], 'Identifier': [], 'LastName': 'Saada', 'ForeName': 'Veronique', 'Initials': 'V'}, attributes={'ValidYN': 'Y'}), DictElement({'AffiliationInfo': [{'Identifier': [], 'Affiliation': 'Département de Médecine Oncologique, Gustave Roussy, Université Paris-Saclay, Villejuif, France.'}], 'Identifier': [], 'LastName': 'Delaloge', 'ForeName': 'Suzette', 'Initials': 'S'}, attributes={'ValidYN': 'Y'}), DictElement({'AffiliationInfo': [{'Identifier': [], 'Affiliation': 'Département de Médecine Oncologique, Gustave Roussy, Université Paris-Saclay, Villejuif, France.'}], 'Identifier': [], 'LastName': 'Leary', 'ForeName': 'Alexandra', 'Initials': 'A'}, attributes={'ValidYN': 'Y'}), DictElement({'AffiliationInfo': [{'Identifier': [], 'Affiliation': 'INSERM U1287, Gustave Roussy, Université Paris-Saclay, Villejuif, France.'}], 'Identifier': [], 'LastName': 'Renneville', 'ForeName': 'Aline', 'Initials': 'A'}, attributes={'ValidYN': 'Y'}), DictElement({'AffiliationInfo': [{'Identifier': [], 'Affiliation': 'INSERM U1287, Gustave Roussy, Université Paris-Saclay, Villejuif, France.'}], 'Identifier': [], 'LastName': 'Antony-Debre', 'ForeName': 'Ileana', 'Initials': 'I'}, attributes={'ValidYN': 'Y'}), DictElement({'AffiliationInfo': [{'Identifier': [], 'Affiliation': 'CNRS UMR9019, Gustave Roussy Institute, Université Paris-Saclay, Villejuif, France.'}], 'Identifier': [], 'LastName': 'Rosselli', 'ForeName': 'Filippo', 'Initials': 'F'}, attributes={'ValidYN': 'Y'}), DictElement({'AffiliationInfo': [{'Identifier': [], 'Affiliation': \"Département d'Hématologie, Gustave Roussy, Université Paris-Saclay, Villejuif, France.\"}, {'Identifier': [], 'Affiliation': 'INSERM U1287, Gustave Roussy, Université Paris-Saclay, Villejuif, France.'}], 'Identifier': [], 'LastName': 'De Botton', 'ForeName': 'Stéphane', 'Initials': 'S'}, attributes={'ValidYN': 'Y'}), DictElement({'AffiliationInfo': [{'Identifier': [], 'Affiliation': \"Gustave Roussy, Université Paris-Saclay, Service de Biostatistique et d'Epidémiologie, Villejuif, France.\"}], 'Identifier': [], 'LastName': 'Salviat', 'ForeName': 'Flore', 'Initials': 'F'}, attributes={'ValidYN': 'Y'}), DictElement({'AffiliationInfo': [{'Identifier': [], 'Affiliation': 'Département de Biologie et Pathologie Médicales, Gustave Roussy, Université Paris-Saclay, Villejuif, France.'}], 'Identifier': [], 'LastName': 'Marzac', 'ForeName': 'Christophe', 'Initials': 'C'}, attributes={'ValidYN': 'Y'}), DictElement({'AffiliationInfo': [{'Identifier': [], 'Affiliation': \"Département d'Hématologie, Gustave Roussy, Université Paris-Saclay, Villejuif, France.\"}, {'Identifier': [], 'Affiliation': 'INSERM U1287, Gustave Roussy, Université Paris-Saclay, Villejuif, France.'}], 'Identifier': [], 'LastName': 'Micol', 'ForeName': 'Jean-Baptiste', 'Initials': 'JB'}, attributes={'ValidYN': 'Y'})], attributes={'CompleteYN': 'Y'})\n",
      "-----\n",
      "BRCA2: a 25-year journey from gene identification to targeted cancer treatment.\n",
      "ListElement([DictElement({'AffiliationInfo': [{'Identifier': [], 'Affiliation': 'Department of Cancer Medicine, Gustave Roussy, Villejuif, France; Inserm U931, Cancer Biomarkers, Université Paris Saclay, Gustave Roussy, Villejuif, France.'}], 'Identifier': [], 'LastName': 'Grinda', 'ForeName': 'Thomas', 'Initials': 'T'}, attributes={'ValidYN': 'Y'}), DictElement({'AffiliationInfo': [{'Identifier': [], 'Affiliation': 'Inserm U931, Cancer Biomarkers, Université Paris Saclay, Gustave Roussy, Villejuif, France. Electronic address: suzette.delaloge@gustaveroussy.fr.'}], 'Identifier': [], 'LastName': 'Delaloge', 'ForeName': 'Suzette', 'Initials': 'S'}, attributes={'ValidYN': 'Y'})], attributes={'CompleteYN': 'Y'})\n",
      "-----\n",
      "Phenotypic discordance between primary and metastatic breast cancer in the large-scale real-life multicenter French ESME cohort.\n",
      "ListElement([DictElement({'AffiliationInfo': [{'Identifier': [], 'Affiliation': 'Gustave Roussy Cancer Campus, Villejuif, France.'}], 'Identifier': [StringElement('http://orcid.org/0000-0002-8567-9627', attributes={'Source': 'ORCID'})], 'LastName': 'Grinda', 'ForeName': 'Thomas', 'Initials': 'T'}, attributes={'ValidYN': 'Y', 'EqualContrib': 'Y'}), DictElement({'AffiliationInfo': [{'Identifier': [], 'Affiliation': 'Gustave Roussy Cancer Campus, Villejuif, France.'}], 'Identifier': [StringElement('http://orcid.org/0000-0001-9742-267X', attributes={'Source': 'ORCID'})], 'LastName': 'Joyon', 'ForeName': 'Natacha', 'Initials': 'N'}, attributes={'ValidYN': 'Y', 'EqualContrib': 'Y'}), DictElement({'AffiliationInfo': [{'Identifier': [], 'Affiliation': 'Institut Claudius Regaud, IUCT-Oncopôle, Toulouse, France.'}], 'Identifier': [], 'LastName': 'Lusque', 'ForeName': 'Amélie', 'Initials': 'A'}, attributes={'ValidYN': 'Y'}), DictElement({'AffiliationInfo': [{'Identifier': [], 'Affiliation': 'Gustave Roussy Cancer Campus, Villejuif, France.'}], 'Identifier': [], 'LastName': 'Lefèvre', 'ForeName': 'Sarah', 'Initials': 'S'}, attributes={'ValidYN': 'Y'}), DictElement({'AffiliationInfo': [{'Identifier': [], 'Affiliation': 'Centre GF Leclerc, Dijon, France.'}], 'Identifier': [], 'LastName': 'Arnould', 'ForeName': 'Laurent', 'Initials': 'L'}, attributes={'ValidYN': 'Y'}), DictElement({'AffiliationInfo': [{'Identifier': [], 'Affiliation': 'Centre Jean-Perrin, Clermont-Ferrand, France.'}], 'Identifier': [], 'LastName': 'Penault-Llorca', 'ForeName': 'Frédérique', 'Initials': 'F'}, attributes={'ValidYN': 'Y'}), DictElement({'AffiliationInfo': [{'Identifier': [], 'Affiliation': 'Institut Bergonié, Bordeaux, France.'}], 'Identifier': [], 'LastName': 'Macgrogan', 'ForeName': 'Gaëtan', 'Initials': 'G'}, attributes={'ValidYN': 'Y'}), DictElement({'AffiliationInfo': [{'Identifier': [], 'Affiliation': 'Centre Léon Bérard, Lyon, France.'}], 'Identifier': [], 'LastName': 'Treilleux', 'ForeName': 'Isabelle', 'Initials': 'I'}, attributes={'ValidYN': 'Y'}), DictElement({'AffiliationInfo': [{'Identifier': [], 'Affiliation': 'Institut Curie, Paris, France.'}], 'Identifier': [StringElement('http://orcid.org/0000-0001-5754-5771', attributes={'Source': 'ORCID'})], 'LastName': 'Vincent-Salomon', 'ForeName': 'Anne', 'Initials': 'A'}, attributes={'ValidYN': 'Y'}), DictElement({'AffiliationInfo': [{'Identifier': [], 'Affiliation': 'Centre Lacassagne, Nice, France.'}], 'Identifier': [], 'LastName': 'Haudebourg', 'ForeName': 'Juliette', 'Initials': 'J'}, attributes={'ValidYN': 'Y'}), DictElement({'AffiliationInfo': [{'Identifier': [], 'Affiliation': 'ICM, Montpellier, France.'}], 'Identifier': [], 'LastName': 'Maran-Gonzalez', 'ForeName': 'Aurélie', 'Initials': 'A'}, attributes={'ValidYN': 'Y'}), DictElement({'AffiliationInfo': [{'Identifier': [], 'Affiliation': 'Institut Paoli-Calmettes, Marseille, France.'}], 'Identifier': [], 'LastName': 'Charafe-Jauffret', 'ForeName': 'Emmanuelle', 'Initials': 'E'}, attributes={'ValidYN': 'Y'}), DictElement({'AffiliationInfo': [{'Identifier': [], 'Affiliation': 'Unicancer R&D, Paris, France.'}], 'Identifier': [], 'LastName': 'Courtinard', 'ForeName': 'Coralie', 'Initials': 'C'}, attributes={'ValidYN': 'Y'}), DictElement({'AffiliationInfo': [{'Identifier': [], 'Affiliation': 'Institut Claudius Regaud, IUCT-Oncopôle, Toulouse, France.'}], 'Identifier': [], 'LastName': 'Franchet', 'ForeName': 'Camille', 'Initials': 'C'}, attributes={'ValidYN': 'Y'}), DictElement({'AffiliationInfo': [{'Identifier': [], 'Affiliation': \"Institut de Cancérologie de l'Ouest, Angers, France.\"}], 'Identifier': [], 'LastName': 'Verriele', 'ForeName': 'Véronique', 'Initials': 'V'}, attributes={'ValidYN': 'Y'}), DictElement({'AffiliationInfo': [{'Identifier': [], 'Affiliation': 'Institut Curie, Saint-Cloud, France.'}], 'Identifier': [StringElement('http://orcid.org/0000-0003-0881-9371', attributes={'Source': 'ORCID'})], 'LastName': 'Brain', 'ForeName': 'Etienne', 'Initials': 'E'}, attributes={'ValidYN': 'Y'}), DictElement({'AffiliationInfo': [{'Identifier': [], 'Affiliation': 'Atalante Pathologie, Rennes, France.'}], 'Identifier': [], 'LastName': 'Tas', 'ForeName': 'Patrick', 'Initials': 'P'}, attributes={'ValidYN': 'Y'}), DictElement({'AffiliationInfo': [{'Identifier': [], 'Affiliation': 'Centre François Baclesse, Caen, France.'}], 'Identifier': [], 'LastName': 'Blanc-Fournier', 'ForeName': 'Cécile', 'Initials': 'C'}, attributes={'ValidYN': 'Y'}), DictElement({'AffiliationInfo': [{'Identifier': [], 'Affiliation': 'Institut de cancérologie de Lorraine, Nancy, France.'}], 'Identifier': [], 'LastName': 'Leroux', 'ForeName': 'Agnès', 'Initials': 'A'}, attributes={'ValidYN': 'Y'}), DictElement({'AffiliationInfo': [{'Identifier': [], 'Affiliation': 'Centre hospitalo-universitaire Nantes Hotel-Dieu, Nantes, France.'}], 'Identifier': [], 'LastName': 'Loussouarn', 'ForeName': 'Delphine', 'Initials': 'D'}, attributes={'ValidYN': 'Y'}), DictElement({'AffiliationInfo': [{'Identifier': [], 'Affiliation': 'Centre Henri Becquerel, Rouen, France.'}], 'Identifier': [], 'LastName': 'Berghian', 'ForeName': 'Anca', 'Initials': 'A'}, attributes={'ValidYN': 'Y'}), DictElement({'AffiliationInfo': [{'Identifier': [], 'Affiliation': 'Institut Godinot, Reims, France.'}], 'Identifier': [], 'LastName': 'Brabencova', 'ForeName': 'Eva', 'Initials': 'E'}, attributes={'ValidYN': 'Y'}), DictElement({'AffiliationInfo': [{'Identifier': [], 'Affiliation': 'Centre Paul Strauss, Strasbourg, France.'}], 'Identifier': [], 'LastName': 'Ghnassia', 'ForeName': 'Jean Pierre', 'Initials': 'JP'}, attributes={'ValidYN': 'Y'}), DictElement({'AffiliationInfo': [{'Identifier': [], 'Affiliation': 'Gustave Roussy Cancer Campus, Villejuif, France.'}], 'Identifier': [], 'LastName': 'Scoazec', 'ForeName': 'Jean-Yves', 'Initials': 'JY'}, attributes={'ValidYN': 'Y'}), DictElement({'AffiliationInfo': [{'Identifier': [], 'Affiliation': 'Gustave Roussy Cancer Campus, Villejuif, France.'}], 'Identifier': [], 'LastName': 'Delaloge', 'ForeName': 'Suzette', 'Initials': 'S'}, attributes={'ValidYN': 'Y'}), DictElement({'AffiliationInfo': [{'Identifier': [], 'Affiliation': 'Institut Claudius Regaud, IUCT-Oncopôle, Toulouse, France.'}], 'Identifier': [], 'LastName': 'Filleron', 'ForeName': 'Thomas', 'Initials': 'T'}, attributes={'ValidYN': 'Y'}), DictElement({'AffiliationInfo': [{'Identifier': [], 'Affiliation': 'Gustave Roussy Cancer Campus, Villejuif, France. magali.lacroix-triki@gustaveroussy.fr.'}], 'Identifier': [StringElement('http://orcid.org/0000-0002-6641-8536', attributes={'Source': 'ORCID'})], 'LastName': 'Lacroix-Triki', 'ForeName': 'Magali', 'Initials': 'M'}, attributes={'ValidYN': 'Y'})], attributes={'CompleteYN': 'Y'})\n",
      "-----\n"
     ]
    }
   ],
   "source": [
    "for article in articles:\n",
    "    citation = article.get('MedlineCitation')\n",
    "    details = citation.get('Article')\n",
    "    title = details.get('ArticleTitle')\n",
    "    authors = details.get('AuthorList')\n",
    "    print(title)\n",
    "    print(authors)\n",
    "    print(\"-\"*5)\n",
    "    "
   ]
  },
  {
   "cell_type": "code",
   "execution_count": null,
   "metadata": {},
   "outputs": [],
   "source": []
  }
 ],
 "metadata": {
  "interpreter": {
   "hash": "9742c505cd91a6036a4418b44552616ca5b4bf6062be78ed3656cf142713b340"
  },
  "kernelspec": {
   "display_name": "Python 3.9.6 ('myhcp-hoejyX7O-py3.9')",
   "language": "python",
   "name": "python3"
  },
  "language_info": {
   "codemirror_mode": {
    "name": "ipython",
    "version": 3
   },
   "file_extension": ".py",
   "mimetype": "text/x-python",
   "name": "python",
   "nbconvert_exporter": "python",
   "pygments_lexer": "ipython3",
   "version": "3.9.6"
  },
  "orig_nbformat": 4
 },
 "nbformat": 4,
 "nbformat_minor": 2
}
